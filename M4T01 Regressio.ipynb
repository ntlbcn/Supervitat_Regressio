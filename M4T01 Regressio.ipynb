{
 "cells": [
  {
   "cell_type": "markdown",
   "id": "8716e012",
   "metadata": {},
   "source": [
    "# M4 T01: Algoritmes d'aprenentatge supervisat: Regressions\n",
    "\n",
    "Exercicis per practicar amb regressions"
   ]
  },
  {
   "cell_type": "markdown",
   "id": "524f8a34",
   "metadata": {},
   "source": [
    "## Nivell 1 - Exercici 1\n",
    "\n",
    "Crea almenys tres models de regressió diferents per intentar predir el millor possible l’endarreriment dels vols (ArrDelay) de DelayedFlights.csv."
   ]
  },
  {
   "cell_type": "markdown",
   "id": "13a586ed",
   "metadata": {},
   "source": [
    "_Llegim les dades que estan en format CSV, **DelayedFlights.csv**, per això necessitem carregar la llibreria **pandas**. Aprofitarem per a carregar altres llibreries que necessitarem més endevant:_"
   ]
  },
  {
   "cell_type": "code",
   "execution_count": 132,
   "id": "fdd2347c",
   "metadata": {},
   "outputs": [
    {
     "name": "stderr",
     "output_type": "stream",
     "text": [
      "C:\\Users\\Nuria\\anaconda3\\lib\\site-packages\\numpy\\lib\\arraysetops.py:583: FutureWarning: elementwise comparison failed; returning scalar instead, but in the future will perform elementwise comparison\n",
      "  mask |= (ar1 == a)\n"
     ]
    }
   ],
   "source": [
    "import matplotlib.pyplot as plt\n",
    "import numpy as np\n",
    "import pandas as pd\n",
    "import statsmodels.api as sm \n",
    "\n",
    "from sklearn import linear_model\n",
    "from sklearn.linear_model import LinearRegression\n",
    "from sklearn.model_selection import train_test_split\n",
    "from sklearn.metrics import mean_squared_error, r2_score\n",
    "from sklearn import metrics\n",
    "\n",
    "df = pd.read_csv('./../data/DelayedFlights.csv', index_col=0)"
   ]
  },
  {
   "cell_type": "code",
   "execution_count": 133,
   "id": "fd1cd7bb",
   "metadata": {},
   "outputs": [
    {
     "data": {
      "text/plain": [
       "(1936758, 29)"
      ]
     },
     "execution_count": 133,
     "metadata": {},
     "output_type": "execute_result"
    }
   ],
   "source": [
    "df.shape"
   ]
  },
  {
   "cell_type": "code",
   "execution_count": 134,
   "id": "af30cb59",
   "metadata": {},
   "outputs": [
    {
     "data": {
      "text/plain": [
       "Index(['Year', 'Month', 'DayofMonth', 'DayOfWeek', 'DepTime', 'CRSDepTime',\n",
       "       'ArrTime', 'CRSArrTime', 'UniqueCarrier', 'FlightNum', 'TailNum',\n",
       "       'ActualElapsedTime', 'CRSElapsedTime', 'AirTime', 'ArrDelay',\n",
       "       'DepDelay', 'Origin', 'Dest', 'Distance', 'TaxiIn', 'TaxiOut',\n",
       "       'Cancelled', 'CancellationCode', 'Diverted', 'CarrierDelay',\n",
       "       'WeatherDelay', 'NASDelay', 'SecurityDelay', 'LateAircraftDelay'],\n",
       "      dtype='object')"
      ]
     },
     "execution_count": 134,
     "metadata": {},
     "output_type": "execute_result"
    }
   ],
   "source": [
    "df.columns"
   ]
  },
  {
   "cell_type": "markdown",
   "id": "4b530914",
   "metadata": {},
   "source": [
    "_Com que el que volem és predir els endarreriments dels vols (ArrDelay), crec que hem d'excloure del nostre conjunt de dades aquells vols que han estat cancel·lats i derivats, perquè en aquests casos els endarreriments no consten_"
   ]
  },
  {
   "cell_type": "code",
   "execution_count": 135,
   "id": "2c057074",
   "metadata": {},
   "outputs": [
    {
     "data": {
      "text/plain": [
       "(1928371, 29)"
      ]
     },
     "execution_count": 135,
     "metadata": {},
     "output_type": "execute_result"
    }
   ],
   "source": [
    "df2 = df.loc[df.loc[:,'Cancelled'] == 0]\n",
    "df2 = df2.loc[df2.loc[:,'Diverted'] == 0]\n",
    "df2.shape"
   ]
  },
  {
   "cell_type": "markdown",
   "id": "5a7ea57d",
   "metadata": {},
   "source": [
    "_Aprofitem per eliminar del nostre conjunt de dades, variables que no anem a utilitzar i creem noves variables que ens poden ser d'interès_"
   ]
  },
  {
   "cell_type": "code",
   "execution_count": 136,
   "id": "468678f5",
   "metadata": {},
   "outputs": [
    {
     "data": {
      "text/plain": [
       "(1928371, 19)"
      ]
     },
     "execution_count": 136,
     "metadata": {},
     "output_type": "execute_result"
    }
   ],
   "source": [
    "df3 = df2.drop(['Year','DepTime','CRSDepTime','ArrTime','CRSArrTime','FlightNum','TailNum','Cancelled','CancellationCode','Diverted'], axis = 1)\n",
    "df3.shape"
   ]
  },
  {
   "cell_type": "markdown",
   "id": "0d8f2426",
   "metadata": {},
   "source": [
    "_Terme quadràtic de la variable TaxiOut_"
   ]
  },
  {
   "cell_type": "code",
   "execution_count": 138,
   "id": "7d922659",
   "metadata": {},
   "outputs": [],
   "source": [
    "df3['TaxiOut2'] = df3['TaxiOut']**2 "
   ]
  },
  {
   "cell_type": "markdown",
   "id": "e2cdc957",
   "metadata": {},
   "source": [
    "_La companyia WN era quina presentava més endarreriments, creem variable dummy que ens indiqui si la companyia és WN o no (vist en exercicis anteriors)_"
   ]
  },
  {
   "cell_type": "code",
   "execution_count": 139,
   "id": "ee494f1e",
   "metadata": {},
   "outputs": [],
   "source": [
    "df3['CarrierWN'] = (df3['UniqueCarrier'] == 'WN').astype(int)"
   ]
  },
  {
   "cell_type": "markdown",
   "id": "40f0eed3",
   "metadata": {},
   "source": [
    "_Creem dummy que ens indiqui el dia de la setmana_"
   ]
  },
  {
   "cell_type": "code",
   "execution_count": 141,
   "id": "f191fba0",
   "metadata": {},
   "outputs": [
    {
     "data": {
      "text/html": [
       "<div>\n",
       "<style scoped>\n",
       "    .dataframe tbody tr th:only-of-type {\n",
       "        vertical-align: middle;\n",
       "    }\n",
       "\n",
       "    .dataframe tbody tr th {\n",
       "        vertical-align: top;\n",
       "    }\n",
       "\n",
       "    .dataframe thead th {\n",
       "        text-align: right;\n",
       "    }\n",
       "</style>\n",
       "<table border=\"1\" class=\"dataframe\">\n",
       "  <thead>\n",
       "    <tr style=\"text-align: right;\">\n",
       "      <th></th>\n",
       "      <th>Month</th>\n",
       "      <th>DayofMonth</th>\n",
       "      <th>DayOfWeek</th>\n",
       "      <th>UniqueCarrier</th>\n",
       "      <th>ActualElapsedTime</th>\n",
       "      <th>CRSElapsedTime</th>\n",
       "      <th>AirTime</th>\n",
       "      <th>ArrDelay</th>\n",
       "      <th>DepDelay</th>\n",
       "      <th>Origin</th>\n",
       "      <th>...</th>\n",
       "      <th>LateAircraftDelay</th>\n",
       "      <th>TaxiOut2</th>\n",
       "      <th>CarrierWN</th>\n",
       "      <th>1</th>\n",
       "      <th>2</th>\n",
       "      <th>3</th>\n",
       "      <th>4</th>\n",
       "      <th>5</th>\n",
       "      <th>6</th>\n",
       "      <th>7</th>\n",
       "    </tr>\n",
       "  </thead>\n",
       "  <tbody>\n",
       "    <tr>\n",
       "      <th>0</th>\n",
       "      <td>1</td>\n",
       "      <td>3</td>\n",
       "      <td>4</td>\n",
       "      <td>WN</td>\n",
       "      <td>128.0</td>\n",
       "      <td>150.0</td>\n",
       "      <td>116.0</td>\n",
       "      <td>-14.0</td>\n",
       "      <td>8.0</td>\n",
       "      <td>IAD</td>\n",
       "      <td>...</td>\n",
       "      <td>NaN</td>\n",
       "      <td>64.0</td>\n",
       "      <td>1</td>\n",
       "      <td>0</td>\n",
       "      <td>0</td>\n",
       "      <td>0</td>\n",
       "      <td>1</td>\n",
       "      <td>0</td>\n",
       "      <td>0</td>\n",
       "      <td>0</td>\n",
       "    </tr>\n",
       "    <tr>\n",
       "      <th>1</th>\n",
       "      <td>1</td>\n",
       "      <td>3</td>\n",
       "      <td>4</td>\n",
       "      <td>WN</td>\n",
       "      <td>128.0</td>\n",
       "      <td>145.0</td>\n",
       "      <td>113.0</td>\n",
       "      <td>2.0</td>\n",
       "      <td>19.0</td>\n",
       "      <td>IAD</td>\n",
       "      <td>...</td>\n",
       "      <td>NaN</td>\n",
       "      <td>100.0</td>\n",
       "      <td>1</td>\n",
       "      <td>0</td>\n",
       "      <td>0</td>\n",
       "      <td>0</td>\n",
       "      <td>1</td>\n",
       "      <td>0</td>\n",
       "      <td>0</td>\n",
       "      <td>0</td>\n",
       "    </tr>\n",
       "    <tr>\n",
       "      <th>2</th>\n",
       "      <td>1</td>\n",
       "      <td>3</td>\n",
       "      <td>4</td>\n",
       "      <td>WN</td>\n",
       "      <td>96.0</td>\n",
       "      <td>90.0</td>\n",
       "      <td>76.0</td>\n",
       "      <td>14.0</td>\n",
       "      <td>8.0</td>\n",
       "      <td>IND</td>\n",
       "      <td>...</td>\n",
       "      <td>NaN</td>\n",
       "      <td>289.0</td>\n",
       "      <td>1</td>\n",
       "      <td>0</td>\n",
       "      <td>0</td>\n",
       "      <td>0</td>\n",
       "      <td>1</td>\n",
       "      <td>0</td>\n",
       "      <td>0</td>\n",
       "      <td>0</td>\n",
       "    </tr>\n",
       "    <tr>\n",
       "      <th>4</th>\n",
       "      <td>1</td>\n",
       "      <td>3</td>\n",
       "      <td>4</td>\n",
       "      <td>WN</td>\n",
       "      <td>90.0</td>\n",
       "      <td>90.0</td>\n",
       "      <td>77.0</td>\n",
       "      <td>34.0</td>\n",
       "      <td>34.0</td>\n",
       "      <td>IND</td>\n",
       "      <td>...</td>\n",
       "      <td>32.0</td>\n",
       "      <td>100.0</td>\n",
       "      <td>1</td>\n",
       "      <td>0</td>\n",
       "      <td>0</td>\n",
       "      <td>0</td>\n",
       "      <td>1</td>\n",
       "      <td>0</td>\n",
       "      <td>0</td>\n",
       "      <td>0</td>\n",
       "    </tr>\n",
       "    <tr>\n",
       "      <th>5</th>\n",
       "      <td>1</td>\n",
       "      <td>3</td>\n",
       "      <td>4</td>\n",
       "      <td>WN</td>\n",
       "      <td>101.0</td>\n",
       "      <td>115.0</td>\n",
       "      <td>87.0</td>\n",
       "      <td>11.0</td>\n",
       "      <td>25.0</td>\n",
       "      <td>IND</td>\n",
       "      <td>...</td>\n",
       "      <td>NaN</td>\n",
       "      <td>100.0</td>\n",
       "      <td>1</td>\n",
       "      <td>0</td>\n",
       "      <td>0</td>\n",
       "      <td>0</td>\n",
       "      <td>1</td>\n",
       "      <td>0</td>\n",
       "      <td>0</td>\n",
       "      <td>0</td>\n",
       "    </tr>\n",
       "  </tbody>\n",
       "</table>\n",
       "<p>5 rows × 28 columns</p>\n",
       "</div>"
      ],
      "text/plain": [
       "   Month  DayofMonth  DayOfWeek UniqueCarrier  ActualElapsedTime  \\\n",
       "0      1           3          4            WN              128.0   \n",
       "1      1           3          4            WN              128.0   \n",
       "2      1           3          4            WN               96.0   \n",
       "4      1           3          4            WN               90.0   \n",
       "5      1           3          4            WN              101.0   \n",
       "\n",
       "   CRSElapsedTime  AirTime  ArrDelay  DepDelay Origin  ... LateAircraftDelay  \\\n",
       "0           150.0    116.0     -14.0       8.0    IAD  ...               NaN   \n",
       "1           145.0    113.0       2.0      19.0    IAD  ...               NaN   \n",
       "2            90.0     76.0      14.0       8.0    IND  ...               NaN   \n",
       "4            90.0     77.0      34.0      34.0    IND  ...              32.0   \n",
       "5           115.0     87.0      11.0      25.0    IND  ...               NaN   \n",
       "\n",
       "   TaxiOut2  CarrierWN  1  2  3  4  5  6  7  \n",
       "0      64.0          1  0  0  0  1  0  0  0  \n",
       "1     100.0          1  0  0  0  1  0  0  0  \n",
       "2     289.0          1  0  0  0  1  0  0  0  \n",
       "4     100.0          1  0  0  0  1  0  0  0  \n",
       "5     100.0          1  0  0  0  1  0  0  0  \n",
       "\n",
       "[5 rows x 28 columns]"
      ]
     },
     "execution_count": 141,
     "metadata": {},
     "output_type": "execute_result"
    }
   ],
   "source": [
    "dummy = pd.get_dummies(df3['DayOfWeek'])\n",
    "df4 = pd.concat([df3, dummy], axis = 1)\n",
    "df4.head()"
   ]
  },
  {
   "cell_type": "code",
   "execution_count": 142,
   "id": "ea28d004",
   "metadata": {},
   "outputs": [
    {
     "data": {
      "text/plain": [
       "Index(['Month', 'DayofMonth', 'DayOfWeek', 'UniqueCarrier',\n",
       "       'ActualElapsedTime', 'CRSElapsedTime', 'AirTime', 'ArrDelay',\n",
       "       'DepDelay', 'Origin', 'Dest', 'Distance', 'TaxiIn', 'TaxiOut',\n",
       "       'CarrierDelay', 'WeatherDelay', 'NASDelay', 'SecurityDelay',\n",
       "       'LateAircraftDelay', 'TaxiOut2', 'CarrierWN', 'Day_Mon', 'Day_Tu',\n",
       "       'Day_Wed', 'Day_Thu', 'Day_Fri', 'Day_Sat', 'Day_Sun'],\n",
       "      dtype='object')"
      ]
     },
     "execution_count": 142,
     "metadata": {},
     "output_type": "execute_result"
    }
   ],
   "source": [
    "df_ok = df4.rename(columns={1:'Day_Mon',2:'Day_Tu',3:'Day_Wed',4:'Day_Thu',5:'Day_Fri',6:'Day_Sat',7:'Day_Sun'})\n",
    "df_ok.columns"
   ]
  },
  {
   "cell_type": "markdown",
   "id": "9b99be47",
   "metadata": {},
   "source": [
    "_La variable **ArrDelay** que serà la nostra variable resposta (y), la resta seran variables explicatives o independents(X). Creem els conjunts de dades corresponents._"
   ]
  },
  {
   "cell_type": "code",
   "execution_count": 143,
   "id": "35072427",
   "metadata": {},
   "outputs": [
    {
     "name": "stdout",
     "output_type": "stream",
     "text": [
      "(1928371, 27) (1928371,)\n"
     ]
    }
   ],
   "source": [
    "X, y = df_ok.loc[:, df_ok.columns != 'ArrDelay'], df_ok.loc[:,'ArrDelay']\n",
    "print(X.shape, y.shape)"
   ]
  },
  {
   "cell_type": "code",
   "execution_count": 144,
   "id": "250b3b2d",
   "metadata": {},
   "outputs": [
    {
     "data": {
      "text/plain": [
       "Index(['Month', 'DayofMonth', 'DayOfWeek', 'UniqueCarrier',\n",
       "       'ActualElapsedTime', 'CRSElapsedTime', 'AirTime', 'DepDelay', 'Origin',\n",
       "       'Dest', 'Distance', 'TaxiIn', 'TaxiOut', 'CarrierDelay', 'WeatherDelay',\n",
       "       'NASDelay', 'SecurityDelay', 'LateAircraftDelay', 'TaxiOut2',\n",
       "       'CarrierWN', 'Day_Mon', 'Day_Tu', 'Day_Wed', 'Day_Thu', 'Day_Fri',\n",
       "       'Day_Sat', 'Day_Sun'],\n",
       "      dtype='object')"
      ]
     },
     "execution_count": 144,
     "metadata": {},
     "output_type": "execute_result"
    }
   ],
   "source": [
    "X.columns"
   ]
  },
  {
   "cell_type": "markdown",
   "id": "420e372b",
   "metadata": {},
   "source": [
    "- _Model 1_\n",
    "\n",
    "_Ja haviem vist, una relació lineal entre les variables **ArrDelay** i **DepDelay**. El primer model serà aquest amb una única variable explicativa_"
   ]
  },
  {
   "cell_type": "code",
   "execution_count": 145,
   "id": "46fc4f8b",
   "metadata": {},
   "outputs": [
    {
     "data": {
      "image/png": "[encoded data removed]",
      "text/plain": [
       "<Figure size 432x288 with 1 Axes>"
      ]
     },
     "metadata": {
      "needs_background": "light"
     },
     "output_type": "display_data"
    }
   ],
   "source": [
    "plt.scatter(X['DepDelay'],y,marker='.')\n",
    "plt.ylabel(\"Arrive Delay\")\n",
    "plt.xlabel(\"Departure Delay\")\n",
    "plt.show()"
   ]
  },
  {
   "cell_type": "markdown",
   "id": "e4430968",
   "metadata": {},
   "source": [
    "_Creem el subconjunt de dades X amb només aquesta variable explicativa_"
   ]
  },
  {
   "cell_type": "code",
   "execution_count": 146,
   "id": "b76e081d",
   "metadata": {},
   "outputs": [],
   "source": [
    "X1 = X['DepDelay']"
   ]
  },
  {
   "cell_type": "code",
   "execution_count": 147,
   "id": "0dd71cc4",
   "metadata": {},
   "outputs": [
    {
     "data": {
      "text/plain": [
       "(1928371,)"
      ]
     },
     "execution_count": 147,
     "metadata": {},
     "output_type": "execute_result"
    }
   ],
   "source": [
    "X1.shape"
   ]
  },
  {
   "cell_type": "markdown",
   "id": "6e8d339c",
   "metadata": {},
   "source": [
    "_Ajustem el model (amb constant):_"
   ]
  },
  {
   "cell_type": "code",
   "execution_count": 148,
   "id": "61cf2385",
   "metadata": {},
   "outputs": [
    {
     "data": {
      "text/html": [
       "<table class=\"simpletable\">\n",
       "<caption>OLS Regression Results</caption>\n",
       "<tr>\n",
       "  <th>Dep. Variable:</th>        <td>ArrDelay</td>     <th>  R-squared:         </th>  <td>   0.908</td>  \n",
       "</tr>\n",
       "<tr>\n",
       "  <th>Model:</th>                   <td>OLS</td>       <th>  Adj. R-squared:    </th>  <td>   0.908</td>  \n",
       "</tr>\n",
       "<tr>\n",
       "  <th>Method:</th>             <td>Least Squares</td>  <th>  F-statistic:       </th>  <td>1.905e+07</td> \n",
       "</tr>\n",
       "<tr>\n",
       "  <th>Date:</th>             <td>Tue, 26 Oct 2021</td> <th>  Prob (F-statistic):</th>   <td>  0.00</td>   \n",
       "</tr>\n",
       "<tr>\n",
       "  <th>Time:</th>                 <td>22:53:29</td>     <th>  Log-Likelihood:    </th> <td>-8.2242e+06</td>\n",
       "</tr>\n",
       "<tr>\n",
       "  <th>No. Observations:</th>      <td>1928371</td>     <th>  AIC:               </th>  <td>1.645e+07</td> \n",
       "</tr>\n",
       "<tr>\n",
       "  <th>Df Residuals:</th>          <td>1928369</td>     <th>  BIC:               </th>  <td>1.645e+07</td> \n",
       "</tr>\n",
       "<tr>\n",
       "  <th>Df Model:</th>              <td>     1</td>      <th>                     </th>      <td> </td>     \n",
       "</tr>\n",
       "<tr>\n",
       "  <th>Covariance Type:</th>      <td>nonrobust</td>    <th>                     </th>      <td> </td>     \n",
       "</tr>\n",
       "</table>\n",
       "<table class=\"simpletable\">\n",
       "<tr>\n",
       "      <td></td>        <th>coef</th>     <th>std err</th>      <th>t</th>      <th>P>|t|</th>  <th>[0.025</th>    <th>0.975]</th>  \n",
       "</tr>\n",
       "<tr>\n",
       "  <th>const</th>    <td>   -1.5759</td> <td>    0.016</td> <td>  -98.820</td> <td> 0.000</td> <td>   -1.607</td> <td>   -1.545</td>\n",
       "</tr>\n",
       "<tr>\n",
       "  <th>DepDelay</th> <td>    1.0159</td> <td>    0.000</td> <td> 4364.397</td> <td> 0.000</td> <td>    1.015</td> <td>    1.016</td>\n",
       "</tr>\n",
       "</table>\n",
       "<table class=\"simpletable\">\n",
       "<tr>\n",
       "  <th>Omnibus:</th>       <td>1277609.269</td> <th>  Durbin-Watson:     </th>   <td>   1.697</td>  \n",
       "</tr>\n",
       "<tr>\n",
       "  <th>Prob(Omnibus):</th>   <td> 0.000</td>    <th>  Jarque-Bera (JB):  </th> <td>39393320.164</td>\n",
       "</tr>\n",
       "<tr>\n",
       "  <th>Skew:</th>            <td> 2.748</td>    <th>  Prob(JB):          </th>   <td>    0.00</td>  \n",
       "</tr>\n",
       "<tr>\n",
       "  <th>Kurtosis:</th>        <td>24.449</td>    <th>  Cond. No.          </th>   <td>    88.1</td>  \n",
       "</tr>\n",
       "</table><br/><br/>Notes:<br/>[1] Standard Errors assume that the covariance matrix of the errors is correctly specified."
      ],
      "text/plain": [
       "<class 'statsmodels.iolib.summary.Summary'>\n",
       "\"\"\"\n",
       "                            OLS Regression Results                            \n",
       "==============================================================================\n",
       "Dep. Variable:               ArrDelay   R-squared:                       0.908\n",
       "Model:                            OLS   Adj. R-squared:                  0.908\n",
       "Method:                 Least Squares   F-statistic:                 1.905e+07\n",
       "Date:                Tue, 26 Oct 2021   Prob (F-statistic):               0.00\n",
       "Time:                        22:53:29   Log-Likelihood:            -8.2242e+06\n",
       "No. Observations:             1928371   AIC:                         1.645e+07\n",
       "Df Residuals:                 1928369   BIC:                         1.645e+07\n",
       "Df Model:                           1                                         \n",
       "Covariance Type:            nonrobust                                         \n",
       "==============================================================================\n",
       "                 coef    std err          t      P>|t|      [0.025      0.975]\n",
       "------------------------------------------------------------------------------\n",
       "const         -1.5759      0.016    -98.820      0.000      -1.607      -1.545\n",
       "DepDelay       1.0159      0.000   4364.397      0.000       1.015       1.016\n",
       "==============================================================================\n",
       "Omnibus:                  1277609.269   Durbin-Watson:                   1.697\n",
       "Prob(Omnibus):                  0.000   Jarque-Bera (JB):         39393320.164\n",
       "Skew:                           2.748   Prob(JB):                         0.00\n",
       "Kurtosis:                      24.449   Cond. No.                         88.1\n",
       "==============================================================================\n",
       "\n",
       "Notes:\n",
       "[1] Standard Errors assume that the covariance matrix of the errors is correctly specified.\n",
       "\"\"\""
      ]
     },
     "execution_count": 148,
     "metadata": {},
     "output_type": "execute_result"
    }
   ],
   "source": [
    "X1 = sm.add_constant(X1)\n",
    "model1 = sm.OLS(y, X1).fit()\n",
    "\n",
    "model1.summary()"
   ]
  },
  {
   "cell_type": "markdown",
   "id": "e286fc7a",
   "metadata": {},
   "source": [
    "_El model ajusta prou bé, 0.9 de coeficient de determinació_"
   ]
  },
  {
   "cell_type": "markdown",
   "id": "9b35849d",
   "metadata": {},
   "source": [
    "- _Model 2_\n",
    "\n",
    "_Explorem altres variables X que estarien correlacionades amb la variable ArrDelay_"
   ]
  },
  {
   "cell_type": "code",
   "execution_count": 149,
   "id": "a986044c",
   "metadata": {},
   "outputs": [
    {
     "data": {
      "image/png": "[encoded data removed]",
      "text/plain": [
       "<Figure size 432x288 with 1 Axes>"
      ]
     },
     "metadata": {
      "needs_background": "light"
     },
     "output_type": "display_data"
    }
   ],
   "source": [
    "plt.scatter(X['Distance'],y,marker='.',color = 'C3')\n",
    "plt.ylabel(\"Arrive Delay\")\n",
    "plt.xlabel(\"Distance\")\n",
    "plt.show()"
   ]
  },
  {
   "cell_type": "code",
   "execution_count": 150,
   "id": "0c9a8d8f",
   "metadata": {},
   "outputs": [
    {
     "data": {
      "image/png": "[encoded data removed]",
      "text/plain": [
       "<Figure size 432x288 with 1 Axes>"
      ]
     },
     "metadata": {
      "needs_background": "light"
     },
     "output_type": "display_data"
    }
   ],
   "source": [
    "plt.scatter(X['AirTime'],y,marker='.',color = 'C2')\n",
    "plt.ylabel(\"Arrive Delay\")\n",
    "plt.xlabel(\"AirTime\")\n",
    "plt.show()"
   ]
  },
  {
   "cell_type": "code",
   "execution_count": 151,
   "id": "74ea4008",
   "metadata": {},
   "outputs": [
    {
     "data": {
      "image/png": "[encoded data removed]",
      "text/plain": [
       "<Figure size 432x288 with 1 Axes>"
      ]
     },
     "metadata": {
      "needs_background": "light"
     },
     "output_type": "display_data"
    }
   ],
   "source": [
    "plt.scatter(X['CRSElapsedTime'],y,marker='.',color = 'C5')\n",
    "plt.ylabel(\"Arrive Delay\")\n",
    "plt.xlabel(\"CRS Elapsed Time (minuts)\")\n",
    "plt.show()"
   ]
  },
  {
   "cell_type": "code",
   "execution_count": 152,
   "id": "9f2c1918",
   "metadata": {},
   "outputs": [
    {
     "data": {
      "image/png": "[encoded data removed]",
      "text/plain": [
       "<Figure size 432x288 with 1 Axes>"
      ]
     },
     "metadata": {
      "needs_background": "light"
     },
     "output_type": "display_data"
    }
   ],
   "source": [
    "plt.scatter(X['TaxiOut'],y,marker='.',color = 'C7')\n",
    "plt.ylabel(\"Arrive Delay\")\n",
    "plt.xlabel(\"Taxi Out time (minuts)\")\n",
    "plt.show()"
   ]
  },
  {
   "cell_type": "markdown",
   "id": "6689659e",
   "metadata": {},
   "source": [
    "_Afegirem al model anterior una nova variable, la TaxiOut (encara que potser caldria transformar-la):_\n",
    "\n",
    "_Creem el subconjunt de dades X amb les dues variables explicatives_"
   ]
  },
  {
   "cell_type": "code",
   "execution_count": 153,
   "id": "1c046279",
   "metadata": {},
   "outputs": [],
   "source": [
    "X2 = X[['DepDelay', 'TaxiOut']]"
   ]
  },
  {
   "cell_type": "code",
   "execution_count": 154,
   "id": "d36d8176",
   "metadata": {},
   "outputs": [
    {
     "data": {
      "text/html": [
       "<table class=\"simpletable\">\n",
       "<caption>OLS Regression Results</caption>\n",
       "<tr>\n",
       "  <th>Dep. Variable:</th>        <td>ArrDelay</td>     <th>  R-squared:         </th>  <td>   0.953</td>  \n",
       "</tr>\n",
       "<tr>\n",
       "  <th>Model:</th>                   <td>OLS</td>       <th>  Adj. R-squared:    </th>  <td>   0.953</td>  \n",
       "</tr>\n",
       "<tr>\n",
       "  <th>Method:</th>             <td>Least Squares</td>  <th>  F-statistic:       </th>  <td>1.957e+07</td> \n",
       "</tr>\n",
       "<tr>\n",
       "  <th>Date:</th>             <td>Tue, 26 Oct 2021</td> <th>  Prob (F-statistic):</th>   <td>  0.00</td>   \n",
       "</tr>\n",
       "<tr>\n",
       "  <th>Time:</th>                 <td>22:54:45</td>     <th>  Log-Likelihood:    </th> <td>-7.5764e+06</td>\n",
       "</tr>\n",
       "<tr>\n",
       "  <th>No. Observations:</th>      <td>1928371</td>     <th>  AIC:               </th>  <td>1.515e+07</td> \n",
       "</tr>\n",
       "<tr>\n",
       "  <th>Df Residuals:</th>          <td>1928368</td>     <th>  BIC:               </th>  <td>1.515e+07</td> \n",
       "</tr>\n",
       "<tr>\n",
       "  <th>Df Model:</th>              <td>     2</td>      <th>                     </th>      <td> </td>     \n",
       "</tr>\n",
       "<tr>\n",
       "  <th>Covariance Type:</th>      <td>nonrobust</td>    <th>                     </th>      <td> </td>     \n",
       "</tr>\n",
       "</table>\n",
       "<table class=\"simpletable\">\n",
       "<tr>\n",
       "      <td></td>        <th>coef</th>     <th>std err</th>      <th>t</th>      <th>P>|t|</th>  <th>[0.025</th>    <th>0.975]</th>  \n",
       "</tr>\n",
       "<tr>\n",
       "  <th>const</th>    <td>  -16.1870</td> <td>    0.016</td> <td>-1033.191</td> <td> 0.000</td> <td>  -16.218</td> <td>  -16.156</td>\n",
       "</tr>\n",
       "<tr>\n",
       "  <th>DepDelay</th> <td>    0.9980</td> <td>    0.000</td> <td> 5980.967</td> <td> 0.000</td> <td>    0.998</td> <td>    0.998</td>\n",
       "</tr>\n",
       "<tr>\n",
       "  <th>TaxiOut</th>  <td>    0.8443</td> <td>    0.001</td> <td> 1359.167</td> <td> 0.000</td> <td>    0.843</td> <td>    0.846</td>\n",
       "</tr>\n",
       "</table>\n",
       "<table class=\"simpletable\">\n",
       "<tr>\n",
       "  <th>Omnibus:</th>       <td>604014.459</td> <th>  Durbin-Watson:     </th>   <td>   1.486</td>  \n",
       "</tr>\n",
       "<tr>\n",
       "  <th>Prob(Omnibus):</th>   <td> 0.000</td>   <th>  Jarque-Bera (JB):  </th> <td>20930363.011</td>\n",
       "</tr>\n",
       "<tr>\n",
       "  <th>Skew:</th>            <td> 0.854</td>   <th>  Prob(JB):          </th>   <td>    0.00</td>  \n",
       "</tr>\n",
       "<tr>\n",
       "  <th>Kurtosis:</th>        <td>19.049</td>   <th>  Cond. No.          </th>   <td>    123.</td>  \n",
       "</tr>\n",
       "</table><br/><br/>Notes:<br/>[1] Standard Errors assume that the covariance matrix of the errors is correctly specified."
      ],
      "text/plain": [
       "<class 'statsmodels.iolib.summary.Summary'>\n",
       "\"\"\"\n",
       "                            OLS Regression Results                            \n",
       "==============================================================================\n",
       "Dep. Variable:               ArrDelay   R-squared:                       0.953\n",
       "Model:                            OLS   Adj. R-squared:                  0.953\n",
       "Method:                 Least Squares   F-statistic:                 1.957e+07\n",
       "Date:                Tue, 26 Oct 2021   Prob (F-statistic):               0.00\n",
       "Time:                        22:54:45   Log-Likelihood:            -7.5764e+06\n",
       "No. Observations:             1928371   AIC:                         1.515e+07\n",
       "Df Residuals:                 1928368   BIC:                         1.515e+07\n",
       "Df Model:                           2                                         \n",
       "Covariance Type:            nonrobust                                         \n",
       "==============================================================================\n",
       "                 coef    std err          t      P>|t|      [0.025      0.975]\n",
       "------------------------------------------------------------------------------\n",
       "const        -16.1870      0.016  -1033.191      0.000     -16.218     -16.156\n",
       "DepDelay       0.9980      0.000   5980.967      0.000       0.998       0.998\n",
       "TaxiOut        0.8443      0.001   1359.167      0.000       0.843       0.846\n",
       "==============================================================================\n",
       "Omnibus:                   604014.459   Durbin-Watson:                   1.486\n",
       "Prob(Omnibus):                  0.000   Jarque-Bera (JB):         20930363.011\n",
       "Skew:                           0.854   Prob(JB):                         0.00\n",
       "Kurtosis:                      19.049   Cond. No.                         123.\n",
       "==============================================================================\n",
       "\n",
       "Notes:\n",
       "[1] Standard Errors assume that the covariance matrix of the errors is correctly specified.\n",
       "\"\"\""
      ]
     },
     "execution_count": 154,
     "metadata": {},
     "output_type": "execute_result"
    }
   ],
   "source": [
    "X2 = sm.add_constant(X2)\n",
    "model2 = sm.OLS(y, X2).fit()\n",
    "\n",
    "model2.summary()"
   ]
  },
  {
   "cell_type": "markdown",
   "id": "0b3dcd24",
   "metadata": {},
   "source": [
    "_Afegint aquestes dues variables, les dues significaties al model, el coeficient de determinació ha augmentat fins el 0.95_"
   ]
  },
  {
   "cell_type": "code",
   "execution_count": 155,
   "id": "54723532",
   "metadata": {},
   "outputs": [
    {
     "data": {
      "image/png": "[encoded data removed]",
      "text/plain": [
       "<Figure size 432x288 with 1 Axes>"
      ]
     },
     "metadata": {
      "needs_background": "light"
     },
     "output_type": "display_data"
    }
   ],
   "source": [
    "plt.scatter(X['TaxiOut'],X['DepDelay'],marker='.')\n",
    "plt.ylabel(\"Departure Delay\")\n",
    "plt.xlabel(\"Taxi Out time (minuts)\")\n",
    "plt.show()"
   ]
  },
  {
   "cell_type": "markdown",
   "id": "1700dff5",
   "metadata": {},
   "source": [
    "- _Model 3_\n",
    "\n",
    "_Per a aquest nou model, afegirem el dia de la setmana. Per això, previament hem creat les variables dummies corresponents, no les afegirem totes 7, sino 6 per evitar problemes de colinealitat_"
   ]
  },
  {
   "cell_type": "code",
   "execution_count": 156,
   "id": "742abaad",
   "metadata": {},
   "outputs": [
    {
     "data": {
      "text/html": [
       "<div>\n",
       "<style scoped>\n",
       "    .dataframe tbody tr th:only-of-type {\n",
       "        vertical-align: middle;\n",
       "    }\n",
       "\n",
       "    .dataframe tbody tr th {\n",
       "        vertical-align: top;\n",
       "    }\n",
       "\n",
       "    .dataframe thead th {\n",
       "        text-align: right;\n",
       "    }\n",
       "</style>\n",
       "<table border=\"1\" class=\"dataframe\">\n",
       "  <thead>\n",
       "    <tr style=\"text-align: right;\">\n",
       "      <th></th>\n",
       "      <th>DepDelay</th>\n",
       "      <th>TaxiOut</th>\n",
       "      <th>Day_Mon</th>\n",
       "      <th>Day_Tu</th>\n",
       "      <th>Day_Wed</th>\n",
       "      <th>Day_Thu</th>\n",
       "      <th>Day_Fri</th>\n",
       "      <th>Day_Sat</th>\n",
       "    </tr>\n",
       "  </thead>\n",
       "  <tbody>\n",
       "    <tr>\n",
       "      <th>0</th>\n",
       "      <td>8.0</td>\n",
       "      <td>8.0</td>\n",
       "      <td>0</td>\n",
       "      <td>0</td>\n",
       "      <td>0</td>\n",
       "      <td>1</td>\n",
       "      <td>0</td>\n",
       "      <td>0</td>\n",
       "    </tr>\n",
       "    <tr>\n",
       "      <th>1</th>\n",
       "      <td>19.0</td>\n",
       "      <td>10.0</td>\n",
       "      <td>0</td>\n",
       "      <td>0</td>\n",
       "      <td>0</td>\n",
       "      <td>1</td>\n",
       "      <td>0</td>\n",
       "      <td>0</td>\n",
       "    </tr>\n",
       "    <tr>\n",
       "      <th>2</th>\n",
       "      <td>8.0</td>\n",
       "      <td>17.0</td>\n",
       "      <td>0</td>\n",
       "      <td>0</td>\n",
       "      <td>0</td>\n",
       "      <td>1</td>\n",
       "      <td>0</td>\n",
       "      <td>0</td>\n",
       "    </tr>\n",
       "    <tr>\n",
       "      <th>4</th>\n",
       "      <td>34.0</td>\n",
       "      <td>10.0</td>\n",
       "      <td>0</td>\n",
       "      <td>0</td>\n",
       "      <td>0</td>\n",
       "      <td>1</td>\n",
       "      <td>0</td>\n",
       "      <td>0</td>\n",
       "    </tr>\n",
       "    <tr>\n",
       "      <th>5</th>\n",
       "      <td>25.0</td>\n",
       "      <td>10.0</td>\n",
       "      <td>0</td>\n",
       "      <td>0</td>\n",
       "      <td>0</td>\n",
       "      <td>1</td>\n",
       "      <td>0</td>\n",
       "      <td>0</td>\n",
       "    </tr>\n",
       "  </tbody>\n",
       "</table>\n",
       "</div>"
      ],
      "text/plain": [
       "   DepDelay  TaxiOut  Day_Mon  Day_Tu  Day_Wed  Day_Thu  Day_Fri  Day_Sat\n",
       "0       8.0      8.0        0       0        0        1        0        0\n",
       "1      19.0     10.0        0       0        0        1        0        0\n",
       "2       8.0     17.0        0       0        0        1        0        0\n",
       "4      34.0     10.0        0       0        0        1        0        0\n",
       "5      25.0     10.0        0       0        0        1        0        0"
      ]
     },
     "execution_count": 156,
     "metadata": {},
     "output_type": "execute_result"
    }
   ],
   "source": [
    "X3 = X[['DepDelay','TaxiOut','Day_Mon', 'Day_Tu', 'Day_Wed', 'Day_Thu','Day_Fri','Day_Sat']]\n",
    "X3.head()"
   ]
  },
  {
   "cell_type": "code",
   "execution_count": 157,
   "id": "0ba3dad9",
   "metadata": {},
   "outputs": [
    {
     "data": {
      "text/html": [
       "<table class=\"simpletable\">\n",
       "<caption>OLS Regression Results</caption>\n",
       "<tr>\n",
       "  <th>Dep. Variable:</th>        <td>ArrDelay</td>     <th>  R-squared:         </th>  <td>   0.953</td>  \n",
       "</tr>\n",
       "<tr>\n",
       "  <th>Model:</th>                   <td>OLS</td>       <th>  Adj. R-squared:    </th>  <td>   0.953</td>  \n",
       "</tr>\n",
       "<tr>\n",
       "  <th>Method:</th>             <td>Least Squares</td>  <th>  F-statistic:       </th>  <td>4.895e+06</td> \n",
       "</tr>\n",
       "<tr>\n",
       "  <th>Date:</th>             <td>Tue, 26 Oct 2021</td> <th>  Prob (F-statistic):</th>   <td>  0.00</td>   \n",
       "</tr>\n",
       "<tr>\n",
       "  <th>Time:</th>                 <td>22:59:16</td>     <th>  Log-Likelihood:    </th> <td>-7.5759e+06</td>\n",
       "</tr>\n",
       "<tr>\n",
       "  <th>No. Observations:</th>      <td>1928371</td>     <th>  AIC:               </th>  <td>1.515e+07</td> \n",
       "</tr>\n",
       "<tr>\n",
       "  <th>Df Residuals:</th>          <td>1928362</td>     <th>  BIC:               </th>  <td>1.515e+07</td> \n",
       "</tr>\n",
       "<tr>\n",
       "  <th>Df Model:</th>              <td>     8</td>      <th>                     </th>      <td> </td>     \n",
       "</tr>\n",
       "<tr>\n",
       "  <th>Covariance Type:</th>      <td>nonrobust</td>    <th>                     </th>      <td> </td>     \n",
       "</tr>\n",
       "</table>\n",
       "<table class=\"simpletable\">\n",
       "<tr>\n",
       "      <td></td>        <th>coef</th>     <th>std err</th>      <th>t</th>      <th>P>|t|</th>  <th>[0.025</th>    <th>0.975]</th>  \n",
       "</tr>\n",
       "<tr>\n",
       "  <th>const</th>    <td>  -16.1810</td> <td>    0.026</td> <td> -611.032</td> <td> 0.000</td> <td>  -16.233</td> <td>  -16.129</td>\n",
       "</tr>\n",
       "<tr>\n",
       "  <th>DepDelay</th> <td>    0.9980</td> <td>    0.000</td> <td> 5979.593</td> <td> 0.000</td> <td>    0.998</td> <td>    0.998</td>\n",
       "</tr>\n",
       "<tr>\n",
       "  <th>TaxiOut</th>  <td>    0.8439</td> <td>    0.001</td> <td> 1358.319</td> <td> 0.000</td> <td>    0.843</td> <td>    0.845</td>\n",
       "</tr>\n",
       "<tr>\n",
       "  <th>Day_Mon</th>  <td>   -0.2753</td> <td>    0.032</td> <td>   -8.482</td> <td> 0.000</td> <td>   -0.339</td> <td>   -0.212</td>\n",
       "</tr>\n",
       "<tr>\n",
       "  <th>Day_Tu</th>   <td>    0.2735</td> <td>    0.033</td> <td>    8.194</td> <td> 0.000</td> <td>    0.208</td> <td>    0.339</td>\n",
       "</tr>\n",
       "<tr>\n",
       "  <th>Day_Wed</th>  <td>   -0.1528</td> <td>    0.033</td> <td>   -4.585</td> <td> 0.000</td> <td>   -0.218</td> <td>   -0.087</td>\n",
       "</tr>\n",
       "<tr>\n",
       "  <th>Day_Thu</th>  <td>    0.1914</td> <td>    0.033</td> <td>    5.889</td> <td> 0.000</td> <td>    0.128</td> <td>    0.255</td>\n",
       "</tr>\n",
       "<tr>\n",
       "  <th>Day_Fri</th>  <td>    0.3055</td> <td>    0.032</td> <td>    9.654</td> <td> 0.000</td> <td>    0.243</td> <td>    0.367</td>\n",
       "</tr>\n",
       "<tr>\n",
       "  <th>Day_Sat</th>  <td>   -0.4437</td> <td>    0.035</td> <td>  -12.742</td> <td> 0.000</td> <td>   -0.512</td> <td>   -0.375</td>\n",
       "</tr>\n",
       "</table>\n",
       "<table class=\"simpletable\">\n",
       "<tr>\n",
       "  <th>Omnibus:</th>       <td>603956.128</td> <th>  Durbin-Watson:     </th>   <td>   1.486</td>  \n",
       "</tr>\n",
       "<tr>\n",
       "  <th>Prob(Omnibus):</th>   <td> 0.000</td>   <th>  Jarque-Bera (JB):  </th> <td>20926218.389</td>\n",
       "</tr>\n",
       "<tr>\n",
       "  <th>Skew:</th>            <td> 0.854</td>   <th>  Prob(JB):          </th>   <td>    0.00</td>  \n",
       "</tr>\n",
       "<tr>\n",
       "  <th>Kurtosis:</th>        <td>19.048</td>   <th>  Cond. No.          </th>   <td>    512.</td>  \n",
       "</tr>\n",
       "</table><br/><br/>Notes:<br/>[1] Standard Errors assume that the covariance matrix of the errors is correctly specified."
      ],
      "text/plain": [
       "<class 'statsmodels.iolib.summary.Summary'>\n",
       "\"\"\"\n",
       "                            OLS Regression Results                            \n",
       "==============================================================================\n",
       "Dep. Variable:               ArrDelay   R-squared:                       0.953\n",
       "Model:                            OLS   Adj. R-squared:                  0.953\n",
       "Method:                 Least Squares   F-statistic:                 4.895e+06\n",
       "Date:                Tue, 26 Oct 2021   Prob (F-statistic):               0.00\n",
       "Time:                        22:59:16   Log-Likelihood:            -7.5759e+06\n",
       "No. Observations:             1928371   AIC:                         1.515e+07\n",
       "Df Residuals:                 1928362   BIC:                         1.515e+07\n",
       "Df Model:                           8                                         \n",
       "Covariance Type:            nonrobust                                         \n",
       "==============================================================================\n",
       "                 coef    std err          t      P>|t|      [0.025      0.975]\n",
       "------------------------------------------------------------------------------\n",
       "const        -16.1810      0.026   -611.032      0.000     -16.233     -16.129\n",
       "DepDelay       0.9980      0.000   5979.593      0.000       0.998       0.998\n",
       "TaxiOut        0.8439      0.001   1358.319      0.000       0.843       0.845\n",
       "Day_Mon       -0.2753      0.032     -8.482      0.000      -0.339      -0.212\n",
       "Day_Tu         0.2735      0.033      8.194      0.000       0.208       0.339\n",
       "Day_Wed       -0.1528      0.033     -4.585      0.000      -0.218      -0.087\n",
       "Day_Thu        0.1914      0.033      5.889      0.000       0.128       0.255\n",
       "Day_Fri        0.3055      0.032      9.654      0.000       0.243       0.367\n",
       "Day_Sat       -0.4437      0.035    -12.742      0.000      -0.512      -0.375\n",
       "==============================================================================\n",
       "Omnibus:                   603956.128   Durbin-Watson:                   1.486\n",
       "Prob(Omnibus):                  0.000   Jarque-Bera (JB):         20926218.389\n",
       "Skew:                           0.854   Prob(JB):                         0.00\n",
       "Kurtosis:                      19.048   Cond. No.                         512.\n",
       "==============================================================================\n",
       "\n",
       "Notes:\n",
       "[1] Standard Errors assume that the covariance matrix of the errors is correctly specified.\n",
       "\"\"\""
      ]
     },
     "execution_count": 157,
     "metadata": {},
     "output_type": "execute_result"
    }
   ],
   "source": [
    "X3 = sm.add_constant(X3)\n",
    "model3 = sm.OLS(y, X3).fit()\n",
    "\n",
    "model3.summary()"
   ]
  },
  {
   "cell_type": "markdown",
   "id": "30eb552e",
   "metadata": {},
   "source": [
    "_En aquest tercer model, les varles dues significaties al model, el coeficient de determinació ha augmentat fins el 0.95_"
   ]
  },
  {
   "cell_type": "markdown",
   "id": "c9081572",
   "metadata": {},
   "source": [
    "## Nivell 1 - Exercici 2\n",
    "\n",
    "Compara’ls en base al MSE i al R2.\n",
    "\n",
    "- _Model 1_"
   ]
  },
  {
   "cell_type": "code",
   "execution_count": 158,
   "id": "adb574cf",
   "metadata": {},
   "outputs": [],
   "source": [
    "X1 = X[['DepDelay']]\n",
    "#X1.shape"
   ]
  },
  {
   "cell_type": "code",
   "execution_count": 159,
   "id": "6ffa5f8d",
   "metadata": {},
   "outputs": [],
   "source": [
    "lm = linear_model.LinearRegression()\n",
    "model1_sk = lm.fit(X1,y)"
   ]
  },
  {
   "cell_type": "code",
   "execution_count": 160,
   "id": "0782064f",
   "metadata": {},
   "outputs": [
    {
     "data": {
      "text/plain": [
       "0.9080692673713633"
      ]
     },
     "execution_count": 160,
     "metadata": {},
     "output_type": "execute_result"
    }
   ],
   "source": [
    "lm.score(X1,y)"
   ]
  },
  {
   "cell_type": "code",
   "execution_count": 161,
   "id": "4aa9be82",
   "metadata": {},
   "outputs": [
    {
     "data": {
      "text/plain": [
       "296.4308497086777"
      ]
     },
     "execution_count": 161,
     "metadata": {},
     "output_type": "execute_result"
    }
   ],
   "source": [
    "pred1_sk = model1_sk.predict(X1)\n",
    "mean_squared_error(y, pred1_sk)"
   ]
  },
  {
   "cell_type": "markdown",
   "id": "2442d40b",
   "metadata": {},
   "source": [
    "- _Model 2_"
   ]
  },
  {
   "cell_type": "code",
   "execution_count": 162,
   "id": "000a713e",
   "metadata": {},
   "outputs": [],
   "source": [
    "X2 = X[['DepDelay', 'TaxiOut']]\n",
    "lm = linear_model.LinearRegression()\n",
    "model2_sk = lm.fit(X2,y)"
   ]
  },
  {
   "cell_type": "code",
   "execution_count": 163,
   "id": "4b64a60d",
   "metadata": {},
   "outputs": [
    {
     "data": {
      "text/plain": [
       "0.9530481447681334"
      ]
     },
     "execution_count": 163,
     "metadata": {},
     "output_type": "execute_result"
    }
   ],
   "source": [
    "lm.score(X2,y)"
   ]
  },
  {
   "cell_type": "code",
   "execution_count": 164,
   "id": "fcc273e5",
   "metadata": {},
   "outputs": [
    {
     "data": {
      "text/plain": [
       "151.3963605403224"
      ]
     },
     "execution_count": 164,
     "metadata": {},
     "output_type": "execute_result"
    }
   ],
   "source": [
    "pred2_sk = model2_sk.predict(X2)\n",
    "mean_squared_error(y, pred2_sk)"
   ]
  },
  {
   "cell_type": "markdown",
   "id": "97eb852f",
   "metadata": {},
   "source": [
    "- _Model 3_"
   ]
  },
  {
   "cell_type": "code",
   "execution_count": 165,
   "id": "3997a1d8",
   "metadata": {},
   "outputs": [],
   "source": [
    "X3 = X[['DepDelay','TaxiOut','Day_Mon', 'Day_Tu', 'Day_Wed', 'Day_Thu','Day_Fri','Day_Sat']]\n",
    "lm = linear_model.LinearRegression()\n",
    "model3_sk = lm.fit(X3,y)"
   ]
  },
  {
   "cell_type": "code",
   "execution_count": 166,
   "id": "1ce67d31",
   "metadata": {},
   "outputs": [
    {
     "data": {
      "text/plain": [
       "0.9530693324939608"
      ]
     },
     "execution_count": 166,
     "metadata": {},
     "output_type": "execute_result"
    }
   ],
   "source": [
    "lm.score(X3,y)"
   ]
  },
  {
   "cell_type": "code",
   "execution_count": 167,
   "id": "3a99f15f",
   "metadata": {},
   "outputs": [
    {
     "data": {
      "text/plain": [
       "151.32804067175567"
      ]
     },
     "execution_count": 167,
     "metadata": {},
     "output_type": "execute_result"
    }
   ],
   "source": [
    "pred3_sk = model3_sk.predict(X3)\n",
    "mean_squared_error(y, pred3_sk)"
   ]
  },
  {
   "cell_type": "markdown",
   "id": "eda52092",
   "metadata": {},
   "source": [
    "_El model amb un coeficient de determinació més alt i un RME més petit, correspon al tercer model. Ara bé, els paràmetres són molts semblants al model 2, pel criteri de parsimònia potser escolliria el model 2 que és  més senzill_"
   ]
  },
  {
   "cell_type": "markdown",
   "id": "2c0f09eb",
   "metadata": {},
   "source": [
    "## Nivell 1 - Exercici 3\n",
    "\n",
    "Entrena’ls utilitzant els diferents paràmetres que admeten.\n",
    "\n",
    "_Dividim els conjunts de dades en Train i Test, farem que Train tingui el 67% de les observacions i Test el 33% restant, amb la instrucció shape ho revisarem_"
   ]
  },
  {
   "cell_type": "code",
   "execution_count": 168,
   "id": "55acbcd4",
   "metadata": {},
   "outputs": [
    {
     "name": "stdout",
     "output_type": "stream",
     "text": [
      "(1292008, 27) (636363, 27) (1292008,) (636363,)\n"
     ]
    }
   ],
   "source": [
    "X_train, X_test, y_train, y_test = train_test_split(X, y, test_size=0.33, random_state=1)\n",
    "print(X_train.shape, X_test.shape, y_train.shape, y_test.shape)"
   ]
  },
  {
   "cell_type": "markdown",
   "id": "a9f00e2e",
   "metadata": {},
   "source": [
    "_Entrenem els models:_"
   ]
  },
  {
   "cell_type": "markdown",
   "id": "c9476693",
   "metadata": {},
   "source": [
    "- _Model 1_"
   ]
  },
  {
   "cell_type": "code",
   "execution_count": 169,
   "id": "9a38e957",
   "metadata": {},
   "outputs": [],
   "source": [
    "X_train1 = X_train[['DepDelay']]"
   ]
  },
  {
   "cell_type": "code",
   "execution_count": 170,
   "id": "66505d63",
   "metadata": {},
   "outputs": [
    {
     "data": {
      "text/plain": [
       "0.9076838084545442"
      ]
     },
     "execution_count": 170,
     "metadata": {},
     "output_type": "execute_result"
    }
   ],
   "source": [
    "lm1 = linear_model.LinearRegression()\n",
    "model_train1_sk = lm1.fit(X_train1,y_train)\n",
    "lm1.score(X_train1,y_train)"
   ]
  },
  {
   "cell_type": "markdown",
   "id": "83ca7ae7",
   "metadata": {},
   "source": [
    "- _Model 2_"
   ]
  },
  {
   "cell_type": "code",
   "execution_count": 171,
   "id": "3cf90a93",
   "metadata": {},
   "outputs": [],
   "source": [
    "X_train2 = X_train[['DepDelay', 'TaxiOut']]"
   ]
  },
  {
   "cell_type": "code",
   "execution_count": 172,
   "id": "90751c32",
   "metadata": {},
   "outputs": [
    {
     "data": {
      "text/plain": [
       "0.9529424829200783"
      ]
     },
     "execution_count": 172,
     "metadata": {},
     "output_type": "execute_result"
    }
   ],
   "source": [
    "lm2 = linear_model.LinearRegression()\n",
    "model_train2_sk = lm2.fit(X_train2,y_train)\n",
    "lm2.score(X_train2,y_train)"
   ]
  },
  {
   "cell_type": "markdown",
   "id": "faf1d748",
   "metadata": {},
   "source": [
    "- _Model 3_"
   ]
  },
  {
   "cell_type": "code",
   "execution_count": 173,
   "id": "73dc1460",
   "metadata": {},
   "outputs": [],
   "source": [
    "X_train3 = X_train[['DepDelay','TaxiOut','Day_Mon', 'Day_Tu', 'Day_Wed', 'Day_Thu','Day_Fri','Day_Sat']]"
   ]
  },
  {
   "cell_type": "code",
   "execution_count": 174,
   "id": "1510c9a3",
   "metadata": {},
   "outputs": [
    {
     "data": {
      "text/plain": [
       "0.9529632988708584"
      ]
     },
     "execution_count": 174,
     "metadata": {},
     "output_type": "execute_result"
    }
   ],
   "source": [
    "lm3 = linear_model.LinearRegression()\n",
    "model_train3_sk = lm3.fit(X_train3,y_train)\n",
    "lm3.score(X_train3,y_train)"
   ]
  },
  {
   "cell_type": "markdown",
   "id": "13610095",
   "metadata": {},
   "source": [
    "## Nivell 1 - Exercici 4\n",
    "\n",
    "Compara el seu rendiment utilitzant l’aproximació traint/test o utilitzant totes les dades (validació interna)"
   ]
  },
  {
   "cell_type": "markdown",
   "id": "6a9165d3",
   "metadata": {},
   "source": [
    "- _Model 1_"
   ]
  },
  {
   "cell_type": "code",
   "execution_count": 175,
   "id": "39af5f67",
   "metadata": {},
   "outputs": [],
   "source": [
    "X_test1 = X_test[['DepDelay']]"
   ]
  },
  {
   "cell_type": "code",
   "execution_count": 176,
   "id": "acd7d825",
   "metadata": {},
   "outputs": [],
   "source": [
    "y_pred1_sk = model_train1_sk.predict(X_test1)"
   ]
  },
  {
   "cell_type": "code",
   "execution_count": 177,
   "id": "1a5f6622",
   "metadata": {},
   "outputs": [
    {
     "name": "stdout",
     "output_type": "stream",
     "text": [
      "Mean Absolute Error: 11.265192243588142\n",
      "Mean Squared Error: 296.15731187888616\n",
      "Root Mean Squared Error: 17.209221710434385\n"
     ]
    }
   ],
   "source": [
    "print('Mean Absolute Error:', metrics.mean_absolute_error(y_test, y_pred1_sk)) \n",
    "print('Mean Squared Error:', metrics.mean_squared_error(y_test, y_pred1_sk)) \n",
    "print('Root Mean Squared Error:', np.sqrt(metrics.mean_squared_error(y_test, y_pred1_sk)))"
   ]
  },
  {
   "cell_type": "markdown",
   "id": "e7040d8d",
   "metadata": {},
   "source": [
    "- _Model 2_"
   ]
  },
  {
   "cell_type": "code",
   "execution_count": 178,
   "id": "37abebea",
   "metadata": {},
   "outputs": [],
   "source": [
    "X_test2 = X_test[['DepDelay', 'TaxiOut']]"
   ]
  },
  {
   "cell_type": "code",
   "execution_count": 179,
   "id": "eef3501c",
   "metadata": {},
   "outputs": [],
   "source": [
    "y_pred2_sk = model_train2_sk.predict(X_test2)"
   ]
  },
  {
   "cell_type": "code",
   "execution_count": 180,
   "id": "5b25c166",
   "metadata": {},
   "outputs": [
    {
     "name": "stdout",
     "output_type": "stream",
     "text": [
      "Mean Absolute Error: 8.72758343361869\n",
      "Mean Squared Error: 151.85175615200876\n",
      "Root Mean Squared Error: 12.322814457420382\n"
     ]
    }
   ],
   "source": [
    "print('Mean Absolute Error:', metrics.mean_absolute_error(y_test, y_pred2_sk)) \n",
    "print('Mean Squared Error:', metrics.mean_squared_error(y_test, y_pred2_sk)) \n",
    "print('Root Mean Squared Error:', np.sqrt(metrics.mean_squared_error(y_test, y_pred2_sk)))"
   ]
  },
  {
   "cell_type": "markdown",
   "id": "03ea914c",
   "metadata": {},
   "source": [
    "- _Model 3_"
   ]
  },
  {
   "cell_type": "code",
   "execution_count": 181,
   "id": "bfb70ae6",
   "metadata": {},
   "outputs": [],
   "source": [
    "X_test3 = X_test[['DepDelay','TaxiOut','Day_Mon', 'Day_Tu', 'Day_Wed', 'Day_Thu','Day_Fri','Day_Sat']]"
   ]
  },
  {
   "cell_type": "code",
   "execution_count": 182,
   "id": "e7a0875b",
   "metadata": {},
   "outputs": [],
   "source": [
    "y_pred3_sk = model_train3_sk.predict(X_test3)"
   ]
  },
  {
   "cell_type": "code",
   "execution_count": 183,
   "id": "14d17add",
   "metadata": {},
   "outputs": [
    {
     "name": "stdout",
     "output_type": "stream",
     "text": [
      "Mean Absolute Error: 8.72450368586708\n",
      "Mean Squared Error: 151.7809531812536\n",
      "Root Mean Squared Error: 12.319941281566791\n"
     ]
    }
   ],
   "source": [
    "print('Mean Absolute Error:', metrics.mean_absolute_error(y_test, y_pred3_sk)) \n",
    "print('Mean Squared Error:', metrics.mean_squared_error(y_test, y_pred3_sk)) \n",
    "print('Root Mean Squared Error:', np.sqrt(metrics.mean_squared_error(y_test, y_pred3_sk)))"
   ]
  },
  {
   "cell_type": "markdown",
   "id": "e57ac471",
   "metadata": {},
   "source": [
    "## Nivell 2 - Exercici 5\n",
    "\n",
    "Realitza algun procés d’enginyeria de variables per millorar-ne la predicció"
   ]
  },
  {
   "cell_type": "markdown",
   "id": "c2fab8c9",
   "metadata": {},
   "source": [
    "_Partim del model 2 vist anteriorment i afegim el terme quadràtic de la variable TaxiOut_"
   ]
  },
  {
   "cell_type": "code",
   "execution_count": 192,
   "id": "e7e2f684",
   "metadata": {
    "scrolled": true
   },
   "outputs": [],
   "source": [
    "X_train5 = X_train[['DepDelay','TaxiOut','TaxiOut2']]"
   ]
  },
  {
   "cell_type": "code",
   "execution_count": 193,
   "id": "6bb78ef2",
   "metadata": {},
   "outputs": [
    {
     "data": {
      "text/html": [
       "<table class=\"simpletable\">\n",
       "<caption>OLS Regression Results</caption>\n",
       "<tr>\n",
       "  <th>Dep. Variable:</th>        <td>ArrDelay</td>     <th>  R-squared:         </th>  <td>   0.953</td>  \n",
       "</tr>\n",
       "<tr>\n",
       "  <th>Model:</th>                   <td>OLS</td>       <th>  Adj. R-squared:    </th>  <td>   0.953</td>  \n",
       "</tr>\n",
       "<tr>\n",
       "  <th>Method:</th>             <td>Least Squares</td>  <th>  F-statistic:       </th>  <td>8.821e+06</td> \n",
       "</tr>\n",
       "<tr>\n",
       "  <th>Date:</th>             <td>Tue, 26 Oct 2021</td> <th>  Prob (F-statistic):</th>   <td>  0.00</td>   \n",
       "</tr>\n",
       "<tr>\n",
       "  <th>Time:</th>                 <td>23:13:01</td>     <th>  Log-Likelihood:    </th> <td>-5.0682e+06</td>\n",
       "</tr>\n",
       "<tr>\n",
       "  <th>No. Observations:</th>      <td>1292008</td>     <th>  AIC:               </th>  <td>1.014e+07</td> \n",
       "</tr>\n",
       "<tr>\n",
       "  <th>Df Residuals:</th>          <td>1292004</td>     <th>  BIC:               </th>  <td>1.014e+07</td> \n",
       "</tr>\n",
       "<tr>\n",
       "  <th>Df Model:</th>              <td>     3</td>      <th>                     </th>      <td> </td>     \n",
       "</tr>\n",
       "<tr>\n",
       "  <th>Covariance Type:</th>      <td>nonrobust</td>    <th>                     </th>      <td> </td>     \n",
       "</tr>\n",
       "</table>\n",
       "<table class=\"simpletable\">\n",
       "<tr>\n",
       "      <td></td>        <th>coef</th>     <th>std err</th>      <th>t</th>      <th>P>|t|</th>  <th>[0.025</th>    <th>0.975]</th>  \n",
       "</tr>\n",
       "<tr>\n",
       "  <th>const</th>    <td>  -14.4375</td> <td>    0.024</td> <td> -601.380</td> <td> 0.000</td> <td>  -14.485</td> <td>  -14.390</td>\n",
       "</tr>\n",
       "<tr>\n",
       "  <th>DepDelay</th> <td>    0.9986</td> <td>    0.000</td> <td> 4916.635</td> <td> 0.000</td> <td>    0.998</td> <td>    0.999</td>\n",
       "</tr>\n",
       "<tr>\n",
       "  <th>TaxiOut</th>  <td>    0.7079</td> <td>    0.001</td> <td>  515.187</td> <td> 0.000</td> <td>    0.705</td> <td>    0.711</td>\n",
       "</tr>\n",
       "<tr>\n",
       "  <th>TaxiOut2</th> <td>    0.0013</td> <td> 1.13e-05</td> <td>  118.920</td> <td> 0.000</td> <td>    0.001</td> <td>    0.001</td>\n",
       "</tr>\n",
       "</table>\n",
       "<table class=\"simpletable\">\n",
       "<tr>\n",
       "  <th>Omnibus:</th>       <td>461172.924</td> <th>  Durbin-Watson:     </th>   <td>   1.999</td>  \n",
       "</tr>\n",
       "<tr>\n",
       "  <th>Prob(Omnibus):</th>   <td> 0.000</td>   <th>  Jarque-Bera (JB):  </th> <td>23226937.722</td>\n",
       "</tr>\n",
       "<tr>\n",
       "  <th>Skew:</th>            <td> 0.959</td>   <th>  Prob(JB):          </th>   <td>    0.00</td>  \n",
       "</tr>\n",
       "<tr>\n",
       "  <th>Kurtosis:</th>        <td>23.683</td>   <th>  Cond. No.          </th>   <td>4.07e+03</td>  \n",
       "</tr>\n",
       "</table><br/><br/>Notes:<br/>[1] Standard Errors assume that the covariance matrix of the errors is correctly specified.<br/>[2] The condition number is large, 4.07e+03. This might indicate that there are<br/>strong multicollinearity or other numerical problems."
      ],
      "text/plain": [
       "<class 'statsmodels.iolib.summary.Summary'>\n",
       "\"\"\"\n",
       "                            OLS Regression Results                            \n",
       "==============================================================================\n",
       "Dep. Variable:               ArrDelay   R-squared:                       0.953\n",
       "Model:                            OLS   Adj. R-squared:                  0.953\n",
       "Method:                 Least Squares   F-statistic:                 8.821e+06\n",
       "Date:                Tue, 26 Oct 2021   Prob (F-statistic):               0.00\n",
       "Time:                        23:13:01   Log-Likelihood:            -5.0682e+06\n",
       "No. Observations:             1292008   AIC:                         1.014e+07\n",
       "Df Residuals:                 1292004   BIC:                         1.014e+07\n",
       "Df Model:                           3                                         \n",
       "Covariance Type:            nonrobust                                         \n",
       "==============================================================================\n",
       "                 coef    std err          t      P>|t|      [0.025      0.975]\n",
       "------------------------------------------------------------------------------\n",
       "const        -14.4375      0.024   -601.380      0.000     -14.485     -14.390\n",
       "DepDelay       0.9986      0.000   4916.635      0.000       0.998       0.999\n",
       "TaxiOut        0.7079      0.001    515.187      0.000       0.705       0.711\n",
       "TaxiOut2       0.0013   1.13e-05    118.920      0.000       0.001       0.001\n",
       "==============================================================================\n",
       "Omnibus:                   461172.924   Durbin-Watson:                   1.999\n",
       "Prob(Omnibus):                  0.000   Jarque-Bera (JB):         23226937.722\n",
       "Skew:                           0.959   Prob(JB):                         0.00\n",
       "Kurtosis:                      23.683   Cond. No.                     4.07e+03\n",
       "==============================================================================\n",
       "\n",
       "Notes:\n",
       "[1] Standard Errors assume that the covariance matrix of the errors is correctly specified.\n",
       "[2] The condition number is large, 4.07e+03. This might indicate that there are\n",
       "strong multicollinearity or other numerical problems.\n",
       "\"\"\""
      ]
     },
     "execution_count": 193,
     "metadata": {},
     "output_type": "execute_result"
    }
   ],
   "source": [
    "X_train5 = sm.add_constant(X_train5)\n",
    "model5 = sm.OLS(y_train, X_train5).fit()\n",
    "\n",
    "model5.summary()"
   ]
  },
  {
   "cell_type": "markdown",
   "id": "8c695ee6",
   "metadata": {},
   "source": [
    "_Apenas ha augmentat el coeficient de determinació_"
   ]
  },
  {
   "cell_type": "code",
   "execution_count": 194,
   "id": "dddb394d",
   "metadata": {},
   "outputs": [],
   "source": [
    "X_train5b = X_train[['DepDelay','TaxiOut','TaxiOut2','Distance','CarrierWN']]"
   ]
  },
  {
   "cell_type": "code",
   "execution_count": 195,
   "id": "587047b5",
   "metadata": {},
   "outputs": [
    {
     "data": {
      "text/html": [
       "<table class=\"simpletable\">\n",
       "<caption>OLS Regression Results</caption>\n",
       "<tr>\n",
       "  <th>Dep. Variable:</th>        <td>ArrDelay</td>     <th>  R-squared:         </th>  <td>   0.955</td>  \n",
       "</tr>\n",
       "<tr>\n",
       "  <th>Model:</th>                   <td>OLS</td>       <th>  Adj. R-squared:    </th>  <td>   0.955</td>  \n",
       "</tr>\n",
       "<tr>\n",
       "  <th>Method:</th>             <td>Least Squares</td>  <th>  F-statistic:       </th>  <td>5.477e+06</td> \n",
       "</tr>\n",
       "<tr>\n",
       "  <th>Date:</th>             <td>Tue, 26 Oct 2021</td> <th>  Prob (F-statistic):</th>   <td>  0.00</td>   \n",
       "</tr>\n",
       "<tr>\n",
       "  <th>Time:</th>                 <td>23:13:50</td>     <th>  Log-Likelihood:    </th> <td>-5.0471e+06</td>\n",
       "</tr>\n",
       "<tr>\n",
       "  <th>No. Observations:</th>      <td>1292008</td>     <th>  AIC:               </th>  <td>1.009e+07</td> \n",
       "</tr>\n",
       "<tr>\n",
       "  <th>Df Residuals:</th>          <td>1292002</td>     <th>  BIC:               </th>  <td>1.009e+07</td> \n",
       "</tr>\n",
       "<tr>\n",
       "  <th>Df Model:</th>              <td>     5</td>      <th>                     </th>      <td> </td>     \n",
       "</tr>\n",
       "<tr>\n",
       "  <th>Covariance Type:</th>      <td>nonrobust</td>    <th>                     </th>      <td> </td>     \n",
       "</tr>\n",
       "</table>\n",
       "<table class=\"simpletable\">\n",
       "<tr>\n",
       "      <td></td>         <th>coef</th>     <th>std err</th>      <th>t</th>      <th>P>|t|</th>  <th>[0.025</th>    <th>0.975]</th>  \n",
       "</tr>\n",
       "<tr>\n",
       "  <th>const</th>     <td>  -12.9482</td> <td>    0.030</td> <td> -434.374</td> <td> 0.000</td> <td>  -13.007</td> <td>  -12.890</td>\n",
       "</tr>\n",
       "<tr>\n",
       "  <th>DepDelay</th>  <td>    0.9988</td> <td>    0.000</td> <td> 4989.424</td> <td> 0.000</td> <td>    0.998</td> <td>    0.999</td>\n",
       "</tr>\n",
       "<tr>\n",
       "  <th>TaxiOut</th>   <td>    0.7579</td> <td>    0.001</td> <td>  536.636</td> <td> 0.000</td> <td>    0.755</td> <td>    0.761</td>\n",
       "</tr>\n",
       "<tr>\n",
       "  <th>TaxiOut2</th>  <td>    0.0011</td> <td> 1.13e-05</td> <td>   95.305</td> <td> 0.000</td> <td>    0.001</td> <td>    0.001</td>\n",
       "</tr>\n",
       "<tr>\n",
       "  <th>Distance</th>  <td>   -0.0035</td> <td> 1.86e-05</td> <td> -187.879</td> <td> 0.000</td> <td>   -0.004</td> <td>   -0.003</td>\n",
       "</tr>\n",
       "<tr>\n",
       "  <th>CarrierWN</th> <td>    2.0364</td> <td>    0.028</td> <td>   72.333</td> <td> 0.000</td> <td>    1.981</td> <td>    2.092</td>\n",
       "</tr>\n",
       "</table>\n",
       "<table class=\"simpletable\">\n",
       "<tr>\n",
       "  <th>Omnibus:</th>       <td>530126.821</td> <th>  Durbin-Watson:     </th>   <td>   1.998</td>  \n",
       "</tr>\n",
       "<tr>\n",
       "  <th>Prob(Omnibus):</th>   <td> 0.000</td>   <th>  Jarque-Bera (JB):  </th> <td>28057510.220</td>\n",
       "</tr>\n",
       "<tr>\n",
       "  <th>Skew:</th>            <td> 1.206</td>   <th>  Prob(JB):          </th>   <td>    0.00</td>  \n",
       "</tr>\n",
       "<tr>\n",
       "  <th>Kurtosis:</th>        <td>25.702</td>   <th>  Cond. No.          </th>   <td>6.07e+03</td>  \n",
       "</tr>\n",
       "</table><br/><br/>Notes:<br/>[1] Standard Errors assume that the covariance matrix of the errors is correctly specified.<br/>[2] The condition number is large, 6.07e+03. This might indicate that there are<br/>strong multicollinearity or other numerical problems."
      ],
      "text/plain": [
       "<class 'statsmodels.iolib.summary.Summary'>\n",
       "\"\"\"\n",
       "                            OLS Regression Results                            \n",
       "==============================================================================\n",
       "Dep. Variable:               ArrDelay   R-squared:                       0.955\n",
       "Model:                            OLS   Adj. R-squared:                  0.955\n",
       "Method:                 Least Squares   F-statistic:                 5.477e+06\n",
       "Date:                Tue, 26 Oct 2021   Prob (F-statistic):               0.00\n",
       "Time:                        23:13:50   Log-Likelihood:            -5.0471e+06\n",
       "No. Observations:             1292008   AIC:                         1.009e+07\n",
       "Df Residuals:                 1292002   BIC:                         1.009e+07\n",
       "Df Model:                           5                                         \n",
       "Covariance Type:            nonrobust                                         \n",
       "==============================================================================\n",
       "                 coef    std err          t      P>|t|      [0.025      0.975]\n",
       "------------------------------------------------------------------------------\n",
       "const        -12.9482      0.030   -434.374      0.000     -13.007     -12.890\n",
       "DepDelay       0.9988      0.000   4989.424      0.000       0.998       0.999\n",
       "TaxiOut        0.7579      0.001    536.636      0.000       0.755       0.761\n",
       "TaxiOut2       0.0011   1.13e-05     95.305      0.000       0.001       0.001\n",
       "Distance      -0.0035   1.86e-05   -187.879      0.000      -0.004      -0.003\n",
       "CarrierWN      2.0364      0.028     72.333      0.000       1.981       2.092\n",
       "==============================================================================\n",
       "Omnibus:                   530126.821   Durbin-Watson:                   1.998\n",
       "Prob(Omnibus):                  0.000   Jarque-Bera (JB):         28057510.220\n",
       "Skew:                           1.206   Prob(JB):                         0.00\n",
       "Kurtosis:                      25.702   Cond. No.                     6.07e+03\n",
       "==============================================================================\n",
       "\n",
       "Notes:\n",
       "[1] Standard Errors assume that the covariance matrix of the errors is correctly specified.\n",
       "[2] The condition number is large, 6.07e+03. This might indicate that there are\n",
       "strong multicollinearity or other numerical problems.\n",
       "\"\"\""
      ]
     },
     "execution_count": 195,
     "metadata": {},
     "output_type": "execute_result"
    }
   ],
   "source": [
    "X_train5b = sm.add_constant(X_train5b)\n",
    "model5b = sm.OLS(y_train, X_train5b).fit()\n",
    "\n",
    "model5b.summary()"
   ]
  },
  {
   "cell_type": "markdown",
   "id": "5dcfad70",
   "metadata": {},
   "source": [
    "_Afegint aquestes variables hem arribat a un model on totes les variables són significatives i el coeficient de determinació és del 95.5%_"
   ]
  },
  {
   "cell_type": "code",
   "execution_count": 199,
   "id": "056e37eb",
   "metadata": {},
   "outputs": [],
   "source": [
    "X_train5b = X_train[['DepDelay','TaxiOut','TaxiOut2','Distance','CarrierWN']]\n",
    "X_test5b = X_test[['DepDelay','TaxiOut','TaxiOut2','Distance','CarrierWN']]"
   ]
  },
  {
   "cell_type": "code",
   "execution_count": 200,
   "id": "4f17d6d2",
   "metadata": {},
   "outputs": [],
   "source": [
    "lm5b = linear_model.LinearRegression()\n",
    "model_train5b_sk = lm5b.fit(X_train5b,y_train)\n",
    "\n",
    "y_pred5b_sk = model_train5b_sk.predict(X_test5b)"
   ]
  },
  {
   "cell_type": "code",
   "execution_count": 201,
   "id": "ef8f1815",
   "metadata": {},
   "outputs": [
    {
     "name": "stdout",
     "output_type": "stream",
     "text": [
      "Mean Absolute Error: 8.44054192064467\n",
      "Mean Squared Error: 145.1825551641196\n",
      "Root Mean Squared Error: 12.049172385027928\n"
     ]
    }
   ],
   "source": [
    "print('Mean Absolute Error:', metrics.mean_absolute_error(y_test, y_pred5b_sk)) \n",
    "print('Mean Squared Error:', metrics.mean_squared_error(y_test, y_pred5b_sk)) \n",
    "print('Root Mean Squared Error:', np.sqrt(metrics.mean_squared_error(y_test, y_pred5b_sk)))"
   ]
  },
  {
   "cell_type": "markdown",
   "id": "429cea38",
   "metadata": {},
   "source": [
    "## Nivell 3 - Exercici 6\n",
    "\n",
    "No utilitzis la variable DepDelay a l’hora de fer prediccions"
   ]
  },
  {
   "cell_type": "markdown",
   "id": "b81a2518",
   "metadata": {},
   "source": [
    "_Ja haviem vist la forta relació lineal entre les variables ArrDelay i DepDelay. Anem a veure la correlació entre les variables numèriques del nostre conjunt de dades_"
   ]
  },
  {
   "cell_type": "code",
   "execution_count": 205,
   "id": "5c08915f",
   "metadata": {},
   "outputs": [],
   "source": [
    "dfNUM = df3.loc[:,['ArrDelay','ActualElapsedTime','CRSElapsedTime','AirTime','DepDelay','Distance','TaxiIn','TaxiOut']]"
   ]
  },
  {
   "cell_type": "code",
   "execution_count": 206,
   "id": "cf5c1c81",
   "metadata": {},
   "outputs": [
    {
     "name": "stdout",
     "output_type": "stream",
     "text": [
      "                   ArrDelay  ActualElapsedTime  CRSElapsedTime   AirTime  \\\n",
      "ArrDelay           1.000000           0.068130       -0.015676 -0.000189   \n",
      "ActualElapsedTime  0.068130           1.000000        0.971122  0.976660   \n",
      "CRSElapsedTime    -0.015676           0.971122        1.000000  0.986086   \n",
      "AirTime           -0.000189           0.976660        0.986086  1.000000   \n",
      "DepDelay           0.952927           0.018492        0.006835 -0.002753   \n",
      "Distance          -0.029853           0.952980        0.981967  0.980294   \n",
      "TaxiIn             0.156277           0.166348        0.099693  0.083926   \n",
      "TaxiOut            0.286484           0.289568        0.123454  0.090398   \n",
      "\n",
      "                   DepDelay  Distance    TaxiIn   TaxiOut  \n",
      "ArrDelay           0.952927 -0.029853  0.156277  0.286484  \n",
      "ActualElapsedTime  0.018492  0.952980  0.166348  0.289568  \n",
      "CRSElapsedTime     0.006835  0.981967  0.099693  0.123454  \n",
      "AirTime           -0.002753  0.980294  0.083926  0.090398  \n",
      "DepDelay           1.000000 -0.007850  0.074880  0.078769  \n",
      "Distance          -0.007850  1.000000  0.072281  0.069965  \n",
      "TaxiIn             0.074880  0.072281  1.000000  0.066961  \n",
      "TaxiOut            0.078769  0.069965  0.066961  1.000000  \n"
     ]
    }
   ],
   "source": [
    "corrMatrix = dfNUM.corr()\n",
    "print (corrMatrix)"
   ]
  },
  {
   "cell_type": "markdown",
   "id": "d4732853",
   "metadata": {},
   "source": [
    "_Amb diferència la variable DepDelay és la variable més correlacionada amb ArrDelay. De les altres variables, les que tenen més correlació amb ArrDelay és TaxiOut seguida per TaxiIn, encara que la correlació és bastant baixa. Afegim aquestes dos variables al model, juntament amb les altres dos variables que hem afegit al model anterior (Distance i CarrierWN)_"
   ]
  },
  {
   "cell_type": "code",
   "execution_count": 207,
   "id": "75447f81",
   "metadata": {},
   "outputs": [],
   "source": [
    "X_train6 = X_train[['TaxiIn','TaxiOut','Distance','CarrierWN']]"
   ]
  },
  {
   "cell_type": "code",
   "execution_count": 208,
   "id": "b7c6eb93",
   "metadata": {},
   "outputs": [
    {
     "data": {
      "text/html": [
       "<table class=\"simpletable\">\n",
       "<caption>OLS Regression Results</caption>\n",
       "<tr>\n",
       "  <th>Dep. Variable:</th>        <td>ArrDelay</td>     <th>  R-squared:         </th>  <td>   0.105</td>  \n",
       "</tr>\n",
       "<tr>\n",
       "  <th>Model:</th>                   <td>OLS</td>       <th>  Adj. R-squared:    </th>  <td>   0.105</td>  \n",
       "</tr>\n",
       "<tr>\n",
       "  <th>Method:</th>             <td>Least Squares</td>  <th>  F-statistic:       </th>  <td>3.808e+04</td> \n",
       "</tr>\n",
       "<tr>\n",
       "  <th>Date:</th>             <td>Tue, 26 Oct 2021</td> <th>  Prob (F-statistic):</th>   <td>  0.00</td>   \n",
       "</tr>\n",
       "<tr>\n",
       "  <th>Time:</th>                 <td>23:37:10</td>     <th>  Log-Likelihood:    </th> <td>-6.9776e+06</td>\n",
       "</tr>\n",
       "<tr>\n",
       "  <th>No. Observations:</th>      <td>1292008</td>     <th>  AIC:               </th>  <td>1.396e+07</td> \n",
       "</tr>\n",
       "<tr>\n",
       "  <th>Df Residuals:</th>          <td>1292003</td>     <th>  BIC:               </th>  <td>1.396e+07</td> \n",
       "</tr>\n",
       "<tr>\n",
       "  <th>Df Model:</th>              <td>     4</td>      <th>                     </th>      <td> </td>     \n",
       "</tr>\n",
       "<tr>\n",
       "  <th>Covariance Type:</th>      <td>nonrobust</td>    <th>                     </th>      <td> </td>     \n",
       "</tr>\n",
       "</table>\n",
       "<table class=\"simpletable\">\n",
       "<tr>\n",
       "      <td></td>         <th>coef</th>     <th>std err</th>      <th>t</th>      <th>P>|t|</th>  <th>[0.025</th>    <th>0.975]</th>  \n",
       "</tr>\n",
       "<tr>\n",
       "  <th>const</th>     <td>   17.1409</td> <td>    0.122</td> <td>  140.052</td> <td> 0.000</td> <td>   16.901</td> <td>   17.381</td>\n",
       "</tr>\n",
       "<tr>\n",
       "  <th>TaxiIn</th>    <td>    1.4983</td> <td>    0.009</td> <td>  164.078</td> <td> 0.000</td> <td>    1.480</td> <td>    1.516</td>\n",
       "</tr>\n",
       "<tr>\n",
       "  <th>TaxiOut</th>   <td>    1.0992</td> <td>    0.003</td> <td>  323.606</td> <td> 0.000</td> <td>    1.093</td> <td>    1.106</td>\n",
       "</tr>\n",
       "<tr>\n",
       "  <th>Distance</th>  <td>   -0.0061</td> <td> 8.28e-05</td> <td>  -73.366</td> <td> 0.000</td> <td>   -0.006</td> <td>   -0.006</td>\n",
       "</tr>\n",
       "<tr>\n",
       "  <th>CarrierWN</th> <td>   -2.8216</td> <td>    0.125</td> <td>  -22.623</td> <td> 0.000</td> <td>   -3.066</td> <td>   -2.577</td>\n",
       "</tr>\n",
       "</table>\n",
       "<table class=\"simpletable\">\n",
       "<tr>\n",
       "  <th>Omnibus:</th>       <td>1196395.215</td> <th>  Durbin-Watson:     </th>   <td>   2.000</td>   \n",
       "</tr>\n",
       "<tr>\n",
       "  <th>Prob(Omnibus):</th>   <td> 0.000</td>    <th>  Jarque-Bera (JB):  </th> <td>101787873.135</td>\n",
       "</tr>\n",
       "<tr>\n",
       "  <th>Skew:</th>            <td> 4.214</td>    <th>  Prob(JB):          </th>   <td>    0.00</td>   \n",
       "</tr>\n",
       "<tr>\n",
       "  <th>Kurtosis:</th>        <td>45.659</td>    <th>  Cond. No.          </th>   <td>3.00e+03</td>   \n",
       "</tr>\n",
       "</table><br/><br/>Notes:<br/>[1] Standard Errors assume that the covariance matrix of the errors is correctly specified.<br/>[2] The condition number is large,  3e+03. This might indicate that there are<br/>strong multicollinearity or other numerical problems."
      ],
      "text/plain": [
       "<class 'statsmodels.iolib.summary.Summary'>\n",
       "\"\"\"\n",
       "                            OLS Regression Results                            \n",
       "==============================================================================\n",
       "Dep. Variable:               ArrDelay   R-squared:                       0.105\n",
       "Model:                            OLS   Adj. R-squared:                  0.105\n",
       "Method:                 Least Squares   F-statistic:                 3.808e+04\n",
       "Date:                Tue, 26 Oct 2021   Prob (F-statistic):               0.00\n",
       "Time:                        23:37:10   Log-Likelihood:            -6.9776e+06\n",
       "No. Observations:             1292008   AIC:                         1.396e+07\n",
       "Df Residuals:                 1292003   BIC:                         1.396e+07\n",
       "Df Model:                           4                                         \n",
       "Covariance Type:            nonrobust                                         \n",
       "==============================================================================\n",
       "                 coef    std err          t      P>|t|      [0.025      0.975]\n",
       "------------------------------------------------------------------------------\n",
       "const         17.1409      0.122    140.052      0.000      16.901      17.381\n",
       "TaxiIn         1.4983      0.009    164.078      0.000       1.480       1.516\n",
       "TaxiOut        1.0992      0.003    323.606      0.000       1.093       1.106\n",
       "Distance      -0.0061   8.28e-05    -73.366      0.000      -0.006      -0.006\n",
       "CarrierWN     -2.8216      0.125    -22.623      0.000      -3.066      -2.577\n",
       "==============================================================================\n",
       "Omnibus:                  1196395.215   Durbin-Watson:                   2.000\n",
       "Prob(Omnibus):                  0.000   Jarque-Bera (JB):        101787873.135\n",
       "Skew:                           4.214   Prob(JB):                         0.00\n",
       "Kurtosis:                      45.659   Cond. No.                     3.00e+03\n",
       "==============================================================================\n",
       "\n",
       "Notes:\n",
       "[1] Standard Errors assume that the covariance matrix of the errors is correctly specified.\n",
       "[2] The condition number is large,  3e+03. This might indicate that there are\n",
       "strong multicollinearity or other numerical problems.\n",
       "\"\"\""
      ]
     },
     "execution_count": 208,
     "metadata": {},
     "output_type": "execute_result"
    }
   ],
   "source": [
    "X_train6 = sm.add_constant(X_train6)\n",
    "model6 = sm.OLS(y_train, X_train6).fit()\n",
    "\n",
    "model6.summary()"
   ]
  },
  {
   "cell_type": "markdown",
   "id": "2b18cdf8",
   "metadata": {},
   "source": [
    "_El coeficient de determinació és bastant baix, només del 10%. Afegint més variables al model, de les que disposem actualment en el nostre conjunt de dades, no aconseguim augmentar substancialment el coeficient de determinació. Potser necessitariem crear altres variables, a partir de les que disposem actualment_"
   ]
  },
  {
   "cell_type": "code",
   "execution_count": 209,
   "id": "d9367b1b",
   "metadata": {},
   "outputs": [],
   "source": [
    "X_train6 = X_train[['TaxiIn','TaxiOut','Distance','CarrierWN']]\n",
    "X_test6 = X_test[['TaxiIn','TaxiOut','Distance','CarrierWN']]"
   ]
  },
  {
   "cell_type": "code",
   "execution_count": 210,
   "id": "2e4a4910",
   "metadata": {},
   "outputs": [],
   "source": [
    "lm6 = linear_model.LinearRegression()\n",
    "model_train6_sk = lm6.fit(X_train6,y_train)\n",
    "\n",
    "y_pred6_sk = model_train6_sk.predict(X_test6)"
   ]
  },
  {
   "cell_type": "code",
   "execution_count": 211,
   "id": "90a978e7",
   "metadata": {},
   "outputs": [
    {
     "name": "stdout",
     "output_type": "stream",
     "text": [
      "Mean Absolute Error: 34.491174625026794\n",
      "Mean Squared Error: 2912.3782973059983\n",
      "Root Mean Squared Error: 53.96645529684156\n"
     ]
    }
   ],
   "source": [
    "print('Mean Absolute Error:', metrics.mean_absolute_error(y_test, y_pred6_sk)) \n",
    "print('Mean Squared Error:', metrics.mean_squared_error(y_test, y_pred6_sk)) \n",
    "print('Root Mean Squared Error:', np.sqrt(metrics.mean_squared_error(y_test, y_pred6_sk)))"
   ]
  },
  {
   "cell_type": "code",
   "execution_count": null,
   "id": "511228eb",
   "metadata": {},
   "outputs": [],
   "source": []
  }
 ],
 "metadata": {
  "kernelspec": {
   "display_name": "Python 3",
   "language": "python",
   "name": "python3"
  },
  "language_info": {
   "codemirror_mode": {
    "name": "ipython",
    "version": 3
   },
   "file_extension": ".py",
   "mimetype": "text/x-python",
   "name": "python",
   "nbconvert_exporter": "python",
   "pygments_lexer": "ipython3",
   "version": "3.8.8"
  }
 },
 "nbformat": 4,
 "nbformat_minor": 5
}
